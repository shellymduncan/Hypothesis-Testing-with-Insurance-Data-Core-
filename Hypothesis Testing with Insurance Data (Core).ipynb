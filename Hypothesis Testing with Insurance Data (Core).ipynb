{
 "cells": [
  {
   "cell_type": "markdown",
   "id": "e9fec159",
   "metadata": {},
   "source": [
    "# Shelly-Ann Duncan\n",
    "# 11/30/22\n",
    "# Hypothesis Testing with Insurance Data (Core)"
   ]
  },
  {
   "cell_type": "markdown",
   "id": "8e6a2fb8",
   "metadata": {},
   "source": [
    "# We have been asked to use our hypothesis testing skills to answer the following questions:\n",
    "\n",
    "* - Q1. Do smokers have higher insurance charges than non-smokers?\n",
    "* - Q2. Are men more likely to smoke than women?\n",
    "* - Q3. Do different regions have different charges, on average?"
   ]
  },
  {
   "cell_type": "code",
   "execution_count": 1,
   "id": "07686f15",
   "metadata": {},
   "outputs": [],
   "source": [
    "# import necessary libraries\n",
    "import pandas as pd\n",
    "import numpy as np\n",
    "import matplotlib.pyplot as plt\n",
    "import seaborn as sns\n",
    "import scipy.stats as stats\n",
    "import scipy"
   ]
  },
  {
   "cell_type": "code",
   "execution_count": 2,
   "id": "9ee856e0",
   "metadata": {},
   "outputs": [
    {
     "name": "stdout",
     "output_type": "stream",
     "text": [
      "<class 'pandas.core.frame.DataFrame'>\n",
      "RangeIndex: 1338 entries, 0 to 1337\n",
      "Data columns (total 7 columns):\n",
      " #   Column    Non-Null Count  Dtype  \n",
      "---  ------    --------------  -----  \n",
      " 0   age       1338 non-null   int64  \n",
      " 1   sex       1338 non-null   object \n",
      " 2   bmi       1338 non-null   float64\n",
      " 3   children  1338 non-null   int64  \n",
      " 4   smoker    1338 non-null   object \n",
      " 5   region    1338 non-null   object \n",
      " 6   charges   1338 non-null   float64\n",
      "dtypes: float64(2), int64(2), object(3)\n",
      "memory usage: 73.3+ KB\n"
     ]
    },
    {
     "data": {
      "text/html": [
       "<div>\n",
       "<style scoped>\n",
       "    .dataframe tbody tr th:only-of-type {\n",
       "        vertical-align: middle;\n",
       "    }\n",
       "\n",
       "    .dataframe tbody tr th {\n",
       "        vertical-align: top;\n",
       "    }\n",
       "\n",
       "    .dataframe thead th {\n",
       "        text-align: right;\n",
       "    }\n",
       "</style>\n",
       "<table border=\"1\" class=\"dataframe\">\n",
       "  <thead>\n",
       "    <tr style=\"text-align: right;\">\n",
       "      <th></th>\n",
       "      <th>age</th>\n",
       "      <th>sex</th>\n",
       "      <th>bmi</th>\n",
       "      <th>children</th>\n",
       "      <th>smoker</th>\n",
       "      <th>region</th>\n",
       "      <th>charges</th>\n",
       "    </tr>\n",
       "  </thead>\n",
       "  <tbody>\n",
       "    <tr>\n",
       "      <th>0</th>\n",
       "      <td>19</td>\n",
       "      <td>female</td>\n",
       "      <td>27.900</td>\n",
       "      <td>0</td>\n",
       "      <td>yes</td>\n",
       "      <td>southwest</td>\n",
       "      <td>16884.92400</td>\n",
       "    </tr>\n",
       "    <tr>\n",
       "      <th>1</th>\n",
       "      <td>18</td>\n",
       "      <td>male</td>\n",
       "      <td>33.770</td>\n",
       "      <td>1</td>\n",
       "      <td>no</td>\n",
       "      <td>southeast</td>\n",
       "      <td>1725.55230</td>\n",
       "    </tr>\n",
       "    <tr>\n",
       "      <th>2</th>\n",
       "      <td>28</td>\n",
       "      <td>male</td>\n",
       "      <td>33.000</td>\n",
       "      <td>3</td>\n",
       "      <td>no</td>\n",
       "      <td>southeast</td>\n",
       "      <td>4449.46200</td>\n",
       "    </tr>\n",
       "    <tr>\n",
       "      <th>3</th>\n",
       "      <td>33</td>\n",
       "      <td>male</td>\n",
       "      <td>22.705</td>\n",
       "      <td>0</td>\n",
       "      <td>no</td>\n",
       "      <td>northwest</td>\n",
       "      <td>21984.47061</td>\n",
       "    </tr>\n",
       "    <tr>\n",
       "      <th>4</th>\n",
       "      <td>32</td>\n",
       "      <td>male</td>\n",
       "      <td>28.880</td>\n",
       "      <td>0</td>\n",
       "      <td>no</td>\n",
       "      <td>northwest</td>\n",
       "      <td>3866.85520</td>\n",
       "    </tr>\n",
       "  </tbody>\n",
       "</table>\n",
       "</div>"
      ],
      "text/plain": [
       "   age     sex     bmi  children smoker     region      charges\n",
       "0   19  female  27.900         0    yes  southwest  16884.92400\n",
       "1   18    male  33.770         1     no  southeast   1725.55230\n",
       "2   28    male  33.000         3     no  southeast   4449.46200\n",
       "3   33    male  22.705         0     no  northwest  21984.47061\n",
       "4   32    male  28.880         0     no  northwest   3866.85520"
      ]
     },
     "execution_count": 2,
     "metadata": {},
     "output_type": "execute_result"
    }
   ],
   "source": [
    "# load data\n",
    "url = 'Data/insurance - insurance.csv'\n",
    "df = pd.read_csv(url)\n",
    "df.info()\n",
    "df.head()"
   ]
  },
  {
   "cell_type": "markdown",
   "id": "62acf5ca",
   "metadata": {},
   "source": [
    "# Q1. Do smokers have higher insurance charges than non-smokers?"
   ]
  },
  {
   "cell_type": "markdown",
   "id": "784f555a",
   "metadata": {},
   "source": [
    "## State the Hypothesis & Null Hypothesis\n"
   ]
  },
  {
   "cell_type": "markdown",
   "id": "d21ee732",
   "metadata": {},
   "source": [
    "- $H_0$ (Null Hypothesis): There is no difference in insurance charges between smokers and non-smokers\n",
    "- $H_A$ (Alternative Hypothesis): Smokers have higher insurance charges than non-smokers"
   ]
  },
  {
   "cell_type": "markdown",
   "id": "0f1e2ccc",
   "metadata": {},
   "source": [
    "## Determine the correct test to perform\n",
    "- Type of Data? Numeric\n",
    "- How many groups/samples? 2 samples(smokers, non-smokers)\n",
    "- Therefore which test is appropriate? sample T test"
   ]
  },
  {
   "cell_type": "markdown",
   "id": "7d3029d3",
   "metadata": {},
   "source": [
    "## Visualize and separate data for hypothesis\n",
    "- What column is the target? charges\n",
    "- What column determines the group? smoker"
   ]
  },
  {
   "cell_type": "code",
   "execution_count": 3,
   "id": "e601386d",
   "metadata": {},
   "outputs": [
    {
     "data": {
      "text/plain": [
       "0       16884.92400\n",
       "1        1725.55230\n",
       "2        4449.46200\n",
       "3       21984.47061\n",
       "4        3866.85520\n",
       "           ...     \n",
       "1333    10600.54830\n",
       "1334     2205.98080\n",
       "1335     1629.83350\n",
       "1336     2007.94500\n",
       "1337    29141.36030\n",
       "Name: charges, Length: 1338, dtype: float64"
      ]
     },
     "execution_count": 3,
     "metadata": {},
     "output_type": "execute_result"
    }
   ],
   "source": [
    "# check the columns that contain the charges\n",
    "df['charges']"
   ]
  },
  {
   "cell_type": "code",
   "execution_count": 4,
   "id": "71592950",
   "metadata": {},
   "outputs": [
    {
     "data": {
      "text/plain": [
       "no     1064\n",
       "yes     274\n",
       "Name: smoker, dtype: int64"
      ]
     },
     "execution_count": 4,
     "metadata": {},
     "output_type": "execute_result"
    }
   ],
   "source": [
    "# check the column that contains info on smoker\n",
    "df['smoker'].value_counts()"
   ]
  },
  {
   "cell_type": "code",
   "execution_count": 5,
   "id": "a97a2705",
   "metadata": {},
   "outputs": [],
   "source": [
    "# create filters for smokers and non smokers \n",
    "smoker = df.loc[df['smoker'] == 'yes'].copy()\n",
    "non_smoker = df.loc[df['smoker'] == 'no'].copy()"
   ]
  },
  {
   "cell_type": "code",
   "execution_count": 6,
   "id": "3b8722f9",
   "metadata": {},
   "outputs": [
    {
     "name": "stdout",
     "output_type": "stream",
     "text": [
      "0       16884.92400\n",
      "11      27808.72510\n",
      "14      39611.75770\n",
      "19      36837.46700\n",
      "23      37701.87680\n",
      "           ...     \n",
      "1313    36397.57600\n",
      "1314    18765.87545\n",
      "1321    28101.33305\n",
      "1323    43896.37630\n",
      "1337    29141.36030\n",
      "Name: charges, Length: 274, dtype: float64\n",
      "\n",
      "\n",
      "1        1725.55230\n",
      "2        4449.46200\n",
      "3       21984.47061\n",
      "4        3866.85520\n",
      "5        3756.62160\n",
      "           ...     \n",
      "1332    11411.68500\n",
      "1333    10600.54830\n",
      "1334     2205.98080\n",
      "1335     1629.83350\n",
      "1336     2007.94500\n",
      "Name: charges, Length: 1064, dtype: float64\n"
     ]
    }
   ],
   "source": [
    "# define the feature of interest\n",
    "smoker_charges = smoker['charges']\n",
    "nonsmoker_charges = non_smoker['charges']\n",
    "print(smoker_charges)\n",
    "print()\n",
    "print()\n",
    "print(nonsmoker_charges)"
   ]
  },
  {
   "cell_type": "code",
   "execution_count": 45,
   "id": "255965e5",
   "metadata": {},
   "outputs": [
    {
     "data": {
      "image/png": "[encoded data removed]",
      "text/plain": [
       "<Figure size 640x480 with 1 Axes>"
      ]
     },
     "metadata": {},
     "output_type": "display_data"
    }
   ],
   "source": [
    "# visulaize the group\n",
    "ax = sns.barplot(data = df, x = 'smoker', y = 'charges')\n",
    "ax.set_title('Charges per Smoker');"
   ]
  },
  {
   "cell_type": "markdown",
   "id": "d54fa6e8",
   "metadata": {},
   "source": [
    "## Check for outliers"
   ]
  },
  {
   "cell_type": "code",
   "execution_count": 8,
   "id": "2fd79a98",
   "metadata": {},
   "outputs": [
    {
     "data": {
      "text/plain": [
       "0"
      ]
     },
     "execution_count": 8,
     "metadata": {},
     "output_type": "execute_result"
    }
   ],
   "source": [
    "# check for outliers in the smoker group\n",
    "zscores= stats.zscore(smoker_charges)\n",
    "outliers = abs(zscores)>3\n",
    "np.sum(outliers)"
   ]
  },
  {
   "cell_type": "code",
   "execution_count": 9,
   "id": "8b1db7ed",
   "metadata": {},
   "outputs": [
    {
     "data": {
      "text/plain": [
       "24"
      ]
     },
     "execution_count": 9,
     "metadata": {},
     "output_type": "execute_result"
    }
   ],
   "source": [
    "# check for outliers in the non smoker group\n",
    "zscores= stats.zscore(nonsmoker_charges)\n",
    "outliers = abs(zscores)>3\n",
    "np.sum(outliers)"
   ]
  },
  {
   "cell_type": "code",
   "execution_count": 14,
   "id": "e9576288",
   "metadata": {},
   "outputs": [
    {
     "data": {
      "text/plain": [
       "(274, 1040)"
      ]
     },
     "execution_count": 14,
     "metadata": {},
     "output_type": "execute_result"
    }
   ],
   "source": [
    "len(smoker_charges), len(nonsmoker_charges)"
   ]
  },
  {
   "cell_type": "code",
   "execution_count": 10,
   "id": "26b60cab",
   "metadata": {},
   "outputs": [],
   "source": [
    "# remove outlier for non smoker group\n",
    "nonsmoker_charges = nonsmoker_charges[(np.abs(stats.zscore(nonsmoker_charges)) < 3)]"
   ]
  },
  {
   "cell_type": "markdown",
   "id": "1b4c91fa",
   "metadata": {},
   "source": [
    "## Check for normality"
   ]
  },
  {
   "cell_type": "code",
   "execution_count": 12,
   "id": "a1ed27e0",
   "metadata": {},
   "outputs": [
    {
     "data": {
      "text/plain": [
       "NormaltestResult(statistic=61.03941356533816, pvalue=5.564930630036463e-14)"
      ]
     },
     "execution_count": 12,
     "metadata": {},
     "output_type": "execute_result"
    }
   ],
   "source": [
    "# test the smoker group for nomality\n",
    "result_smoker_charges = stats.normaltest(smoker_charges)\n",
    "result_smoker_charges"
   ]
  },
  {
   "cell_type": "code",
   "execution_count": 13,
   "id": "7982b3ad",
   "metadata": {},
   "outputs": [
    {
     "data": {
      "text/plain": [
       "NormaltestResult(statistic=163.80367047789198, pvalue=2.6945416315543976e-36)"
      ]
     },
     "execution_count": 13,
     "metadata": {},
     "output_type": "execute_result"
    }
   ],
   "source": [
    "# test the non_smoker group for normality\n",
    "result_nonsmoker_charges = stats.normaltest(nonsmoker_charges)\n",
    "result_nonsmoker_charges"
   ]
  },
  {
   "cell_type": "markdown",
   "id": "18aecb95",
   "metadata": {},
   "source": [
    "## Check for equal variances"
   ]
  },
  {
   "cell_type": "code",
   "execution_count": 17,
   "id": "c85de8a0",
   "metadata": {},
   "outputs": [
    {
     "data": {
      "text/plain": [
       "True"
      ]
     },
     "execution_count": 17,
     "metadata": {},
     "output_type": "execute_result"
    }
   ],
   "source": [
    "# test for equal variance\n",
    "result = stats.levene(smoker_charges, nonsmoker_charges)\n",
    "result.pvalue <0.05"
   ]
  },
  {
   "cell_type": "code",
   "execution_count": 18,
   "id": "9a77d97c",
   "metadata": {},
   "outputs": [
    {
     "name": "stdout",
     "output_type": "stream",
     "text": [
      "The group DO NOT have equal variances\n"
     ]
    }
   ],
   "source": [
    "# use and if-else statement\n",
    "if result.pvalue <0.05:\n",
    "    print('The group DO NOT have equal variances')\n",
    "else:\n",
    "    print('The group DO have equal variances')"
   ]
  },
  {
   "cell_type": "markdown",
   "id": "c869076f",
   "metadata": {},
   "source": [
    "## Final hypothesis test"
   ]
  },
  {
   "cell_type": "code",
   "execution_count": 20,
   "id": "017a3c65",
   "metadata": {},
   "outputs": [
    {
     "data": {
      "text/plain": [
       "True"
      ]
     },
     "execution_count": 20,
     "metadata": {},
     "output_type": "execute_result"
    }
   ],
   "source": [
    "# run final hypothesis test\n",
    "results = stats.ttest_ind(smoker_charges, nonsmoker_charges, equal_var = False)\n",
    "results.pvalue <0.05"
   ]
  },
  {
   "cell_type": "code",
   "execution_count": 21,
   "id": "b100ef4b",
   "metadata": {},
   "outputs": [
    {
     "data": {
      "text/plain": [
       "32050.23183153284"
      ]
     },
     "execution_count": 21,
     "metadata": {},
     "output_type": "execute_result"
    }
   ],
   "source": [
    "# make a plot or calculate or calculate group mean to know which group had more/less\n",
    "smoker_charges.mean()"
   ]
  },
  {
   "cell_type": "code",
   "execution_count": 22,
   "id": "3c760c40",
   "metadata": {},
   "outputs": [
    {
     "data": {
      "text/plain": [
       "7939.8608446721155"
      ]
     },
     "execution_count": 22,
     "metadata": {},
     "output_type": "execute_result"
    }
   ],
   "source": [
    "nonsmoker_charges.mean()"
   ]
  },
  {
   "cell_type": "markdown",
   "id": "e701106f",
   "metadata": {},
   "source": [
    "### Final conclusion\n",
    "- p < alpha so we rejest the null hypothesis and we support the alternate hypothesis.\n",
    "- Smokers have higher insurance charges than non smokers."
   ]
  },
  {
   "cell_type": "markdown",
   "id": "7ff59899",
   "metadata": {},
   "source": [
    "# Q2. Are men more likely to smoke than women?"
   ]
  },
  {
   "cell_type": "markdown",
   "id": "0b18dd0f",
   "metadata": {},
   "source": [
    "## State the hypothesis and null hypothesis\n",
    "- $H_0$ (Null Hypothesis): Men are not more likey to smoke than women.\n",
    "- $H_A$ (Alternative Hypothesis) : Men are more likely to smoke than women.    "
   ]
  },
  {
   "cell_type": "markdown",
   "id": "dcc15536",
   "metadata": {},
   "source": [
    "## Determine the correct test to perform\n",
    "- Type of Data? Categorical\n",
    "- How many groups/samples? 2 samples(men, women)\n",
    "- Therefore which test is appropriate? Chi-Square"
   ]
  },
  {
   "cell_type": "markdown",
   "id": "f123579a",
   "metadata": {},
   "source": [
    "## Visualize and separate data for hypothesis\n",
    "- What column is the target? smoker\n",
    "- What column determines the group? sex"
   ]
  },
  {
   "cell_type": "code",
   "execution_count": 44,
   "id": "0b62c16d",
   "metadata": {},
   "outputs": [
    {
     "data": {
      "image/png": "[encoded data removed]",
      "text/plain": [
       "<Figure size 640x480 with 1 Axes>"
      ]
     },
     "metadata": {},
     "output_type": "display_data"
    }
   ],
   "source": [
    "# visualize the smokers/non smokers by sex\n",
    "ax = sns.countplot(data = df, x ='sex', hue = 'smoker',)\n",
    "ax.set_title('Number of Smokers by Sex');"
   ]
  },
  {
   "cell_type": "code",
   "execution_count": 26,
   "id": "7b06fdf0",
   "metadata": {},
   "outputs": [
    {
     "data": {
      "text/html": [
       "<div>\n",
       "<style scoped>\n",
       "    .dataframe tbody tr th:only-of-type {\n",
       "        vertical-align: middle;\n",
       "    }\n",
       "\n",
       "    .dataframe tbody tr th {\n",
       "        vertical-align: top;\n",
       "    }\n",
       "\n",
       "    .dataframe thead th {\n",
       "        text-align: right;\n",
       "    }\n",
       "</style>\n",
       "<table border=\"1\" class=\"dataframe\">\n",
       "  <thead>\n",
       "    <tr style=\"text-align: right;\">\n",
       "      <th>smoker</th>\n",
       "      <th>no</th>\n",
       "      <th>yes</th>\n",
       "    </tr>\n",
       "    <tr>\n",
       "      <th>sex</th>\n",
       "      <th></th>\n",
       "      <th></th>\n",
       "    </tr>\n",
       "  </thead>\n",
       "  <tbody>\n",
       "    <tr>\n",
       "      <th>female</th>\n",
       "      <td>547</td>\n",
       "      <td>115</td>\n",
       "    </tr>\n",
       "    <tr>\n",
       "      <th>male</th>\n",
       "      <td>517</td>\n",
       "      <td>159</td>\n",
       "    </tr>\n",
       "  </tbody>\n",
       "</table>\n",
       "</div>"
      ],
      "text/plain": [
       "smoker   no  yes\n",
       "sex             \n",
       "female  547  115\n",
       "male    517  159"
      ]
     },
     "execution_count": 26,
     "metadata": {},
     "output_type": "execute_result"
    }
   ],
   "source": [
    "# calculate the contingency table with pd.cross-tab\n",
    "table = pd.crosstab(df['sex'], df['smoker'])\n",
    "table"
   ]
  },
  {
   "cell_type": "code",
   "execution_count": 28,
   "id": "e73373b2",
   "metadata": {},
   "outputs": [],
   "source": [
    "# run the test and save the output\n",
    "result = stats.chi2_contingency(table)\n",
    "chi2, p, deg_free, expected_vals = result # this labels the results"
   ]
  },
  {
   "cell_type": "code",
   "execution_count": 29,
   "id": "d49ff7b2",
   "metadata": {},
   "outputs": [
    {
     "name": "stdout",
     "output_type": "stream",
     "text": [
      "0.006548143503580696\n"
     ]
    },
    {
     "data": {
      "text/plain": [
       "True"
      ]
     },
     "execution_count": 29,
     "metadata": {},
     "output_type": "execute_result"
    }
   ],
   "source": [
    "# what is the p value\n",
    "print(p)\n",
    "p < 0.05"
   ]
  },
  {
   "cell_type": "markdown",
   "id": "c9b574f5",
   "metadata": {},
   "source": [
    "### final conclusion\n",
    "* p < alpha so we reject the null hypothesis and we support the alternate hypothesis.\n",
    "* Men are more likely to smoke than women."
   ]
  },
  {
   "cell_type": "markdown",
   "id": "94cff181",
   "metadata": {},
   "source": [
    "# Q3. Do different regions have different charges, on average?"
   ]
  },
  {
   "cell_type": "markdown",
   "id": "d9e4c7a0",
   "metadata": {},
   "source": [
    "## State the hypothesis and the null hypothesis\n",
    "* 𝐻0  (Null Hypothesis): Different regions do not have different charges on average.\n",
    "* 𝐻𝐴  (Alternative Hypothesis) : Different regions have different charges."
   ]
  },
  {
   "cell_type": "markdown",
   "id": "1d2e24e1",
   "metadata": {},
   "source": [
    "## Determine the correct test to perform\n",
    "* Type of Data? Categorical\n",
    "* How many groups/samples? More than 2\n",
    "* Therefore which test is appropriate? Chi-Square"
   ]
  },
  {
   "cell_type": "markdown",
   "id": "c7799d91",
   "metadata": {},
   "source": [
    "## Visualize and separate data for hypothesis\n",
    "- What column is the target? regions\n",
    "- What column determines the group? charges"
   ]
  },
  {
   "cell_type": "code",
   "execution_count": 38,
   "id": "f41fc59d",
   "metadata": {},
   "outputs": [
    {
     "data": {
      "image/png": "[encoded data removed]",
      "text/plain": [
       "<Figure size 640x480 with 1 Axes>"
      ]
     },
     "metadata": {},
     "output_type": "display_data"
    }
   ],
   "source": [
    "# visualize the regions by charges\n",
    "ax = sns.barplot(data = df, x = 'region', y = 'charges',)\n",
    "ax.set_title('Charges by Region');"
   ]
  },
  {
   "cell_type": "code",
   "execution_count": 47,
   "id": "f6558cad",
   "metadata": {},
   "outputs": [
    {
     "data": {
      "text/html": [
       "<div>\n",
       "<style scoped>\n",
       "    .dataframe tbody tr th:only-of-type {\n",
       "        vertical-align: middle;\n",
       "    }\n",
       "\n",
       "    .dataframe tbody tr th {\n",
       "        vertical-align: top;\n",
       "    }\n",
       "\n",
       "    .dataframe thead th {\n",
       "        text-align: right;\n",
       "    }\n",
       "</style>\n",
       "<table border=\"1\" class=\"dataframe\">\n",
       "  <thead>\n",
       "    <tr style=\"text-align: right;\">\n",
       "      <th>region</th>\n",
       "      <th>northeast</th>\n",
       "      <th>northwest</th>\n",
       "      <th>southeast</th>\n",
       "      <th>southwest</th>\n",
       "    </tr>\n",
       "    <tr>\n",
       "      <th>charges</th>\n",
       "      <th></th>\n",
       "      <th></th>\n",
       "      <th></th>\n",
       "      <th></th>\n",
       "    </tr>\n",
       "  </thead>\n",
       "  <tbody>\n",
       "    <tr>\n",
       "      <th>1121.87390</th>\n",
       "      <td>0</td>\n",
       "      <td>0</td>\n",
       "      <td>1</td>\n",
       "      <td>0</td>\n",
       "    </tr>\n",
       "    <tr>\n",
       "      <th>1131.50660</th>\n",
       "      <td>0</td>\n",
       "      <td>0</td>\n",
       "      <td>1</td>\n",
       "      <td>0</td>\n",
       "    </tr>\n",
       "    <tr>\n",
       "      <th>1135.94070</th>\n",
       "      <td>0</td>\n",
       "      <td>0</td>\n",
       "      <td>1</td>\n",
       "      <td>0</td>\n",
       "    </tr>\n",
       "    <tr>\n",
       "      <th>1136.39940</th>\n",
       "      <td>0</td>\n",
       "      <td>0</td>\n",
       "      <td>1</td>\n",
       "      <td>0</td>\n",
       "    </tr>\n",
       "    <tr>\n",
       "      <th>1137.01100</th>\n",
       "      <td>0</td>\n",
       "      <td>0</td>\n",
       "      <td>1</td>\n",
       "      <td>0</td>\n",
       "    </tr>\n",
       "    <tr>\n",
       "      <th>...</th>\n",
       "      <td>...</td>\n",
       "      <td>...</td>\n",
       "      <td>...</td>\n",
       "      <td>...</td>\n",
       "    </tr>\n",
       "    <tr>\n",
       "      <th>55135.40209</th>\n",
       "      <td>0</td>\n",
       "      <td>1</td>\n",
       "      <td>0</td>\n",
       "      <td>0</td>\n",
       "    </tr>\n",
       "    <tr>\n",
       "      <th>58571.07448</th>\n",
       "      <td>1</td>\n",
       "      <td>0</td>\n",
       "      <td>0</td>\n",
       "      <td>0</td>\n",
       "    </tr>\n",
       "    <tr>\n",
       "      <th>60021.39897</th>\n",
       "      <td>0</td>\n",
       "      <td>1</td>\n",
       "      <td>0</td>\n",
       "      <td>0</td>\n",
       "    </tr>\n",
       "    <tr>\n",
       "      <th>62592.87309</th>\n",
       "      <td>0</td>\n",
       "      <td>0</td>\n",
       "      <td>1</td>\n",
       "      <td>0</td>\n",
       "    </tr>\n",
       "    <tr>\n",
       "      <th>63770.42801</th>\n",
       "      <td>0</td>\n",
       "      <td>0</td>\n",
       "      <td>1</td>\n",
       "      <td>0</td>\n",
       "    </tr>\n",
       "  </tbody>\n",
       "</table>\n",
       "<p>1337 rows × 4 columns</p>\n",
       "</div>"
      ],
      "text/plain": [
       "region       northeast  northwest  southeast  southwest\n",
       "charges                                                \n",
       "1121.87390           0          0          1          0\n",
       "1131.50660           0          0          1          0\n",
       "1135.94070           0          0          1          0\n",
       "1136.39940           0          0          1          0\n",
       "1137.01100           0          0          1          0\n",
       "...                ...        ...        ...        ...\n",
       "55135.40209          0          1          0          0\n",
       "58571.07448          1          0          0          0\n",
       "60021.39897          0          1          0          0\n",
       "62592.87309          0          0          1          0\n",
       "63770.42801          0          0          1          0\n",
       "\n",
       "[1337 rows x 4 columns]"
      ]
     },
     "execution_count": 47,
     "metadata": {},
     "output_type": "execute_result"
    }
   ],
   "source": [
    "# calculate the contingency table with pd.cross-tab\n",
    "table = pd.crosstab(df['charges'], df['region'])\n",
    "table"
   ]
  },
  {
   "cell_type": "code",
   "execution_count": 48,
   "id": "8c61fb82",
   "metadata": {},
   "outputs": [],
   "source": [
    "# run the test and save the output\n",
    "result = stats.chi2_contingency(table)\n",
    "chi2, p, deg_free, expected_vals = result #this labels the results"
   ]
  },
  {
   "cell_type": "code",
   "execution_count": 49,
   "id": "d71e2d6c",
   "metadata": {},
   "outputs": [
    {
     "name": "stdout",
     "output_type": "stream",
     "text": [
      "0.4703353426605913\n"
     ]
    },
    {
     "data": {
      "text/plain": [
       "False"
      ]
     },
     "execution_count": 49,
     "metadata": {},
     "output_type": "execute_result"
    }
   ],
   "source": [
    "# what is the p value\n",
    "print(p)\n",
    "p < 0.05"
   ]
  },
  {
   "cell_type": "markdown",
   "id": "49ae432d",
   "metadata": {},
   "source": [
    "## Final conclusion\n",
    "* p > alpha so we support the null hypothesis and reject the alternative hypothesis\n",
    "* Different regions do not have have different charges on average."
   ]
  },
  {
   "cell_type": "code",
   "execution_count": null,
   "id": "4389f4dd",
   "metadata": {},
   "outputs": [],
   "source": []
  }
 ],
 "metadata": {
  "kernelspec": {
   "display_name": "Python (dojo-env)",
   "language": "python",
   "name": "dojo-env"
  },
  "language_info": {
   "codemirror_mode": {
    "name": "ipython",
    "version": 3
   },
   "file_extension": ".py",
   "mimetype": "text/x-python",
   "name": "python",
   "nbconvert_exporter": "python",
   "pygments_lexer": "ipython3",
   "version": "3.8.13"
  },
  "toc": {
   "base_numbering": 1,
   "nav_menu": {},
   "number_sections": false,
   "sideBar": true,
   "skip_h1_title": false,
   "title_cell": "Table of Contents",
   "title_sidebar": "Contents",
   "toc_cell": false,
   "toc_position": {},
   "toc_section_display": true,
   "toc_window_display": false
  }
 },
 "nbformat": 4,
 "nbformat_minor": 5
}
